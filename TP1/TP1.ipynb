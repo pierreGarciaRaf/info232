{
 "cells": [
  {
   "cell_type": "markdown",
   "metadata": {},
   "source": [
    "<div>\n",
    "<img src=\"mini-dataset/a1.png\", width=32, ALIGN=\"left\">\n",
    "<center>\n",
    "<h1>Mini Projets 2019-2020 (Info 232)</h1>\n",
    "Isabelle Guyon <br>\n",
    "info232@chalearn.org <br>\n",
    "</center>\n",
    "<span style=\"color:red\"> <h1> 1 . Workflow </h1> </span>\n",
    "    \n",
    "<p> Become a data scientist is one hour: learn about the basic workflow of data science:\n",
    "    <ol>\n",
    "        <li> Visualisation </li>\n",
    "        <li> Metric definition </li>\n",
    "        <li> Baseline results </li>\n",
    "        <li> Error bars </li>\n",
    "    </ol>\n",
    "    </p>\n",
    "</div>\n",
    "<div style=\"background:#FFFFAA\">\n",
    " This TP gives you 5 points if you answer well at least 5 questions. However we encourage you answer all questions: they are meant to give you ideas you can use later in your projects. If you cannot, get help by attending the Wednesday session.\n",
    "    \n",
    "<span style=\"color:red\"> <b>Save your notebook often with menu File + Save and Checkpoint.</b>\n",
    "<br> <b>Before you push your homework to your GitHub repo, use  Kernel + Restart and Run all.</b>\n",
    "</span>\n",
    "    </div>"
   ]
  },
  {
   "cell_type": "code",
   "execution_count": 1,
   "metadata": {},
   "outputs": [],
   "source": [
    "# Load general libraries\n",
    "import os, re\n",
    "from glob import glob as ls\n",
    "from PIL import Image\n",
    "import matplotlib.pyplot as plt\n",
    "%matplotlib inline\n",
    "%load_ext autoreload\n",
    "%autoreload 2\n",
    "\n",
    "### Add path to the sample code so the notebook finds it:\n",
    "code_dir = 'code/'                        \n",
    "from sys import path; path.append(code_dir)\n",
    "#import utilities as ut\n",
    "from utilities import get_image\n",
    "from utilities import get_files\n",
    "# Import code that checks your answers\n",
    "from checker import check \n",
    "# Disable some warnings\n",
    "import warnings\n",
    "warnings.simplefilter(action='ignore', category=FutureWarning) "
   ]
  },
  {
   "cell_type": "markdown",
   "metadata": {},
   "source": [
    "<div style=\"background:#FFFFAA\"> <h1> Step 1: Data visualisation and preprocessing </h1>\n",
    "    </div>\n",
    "    \n",
    "<p>\n",
    "This first par guides you through a example of reading and preprocessing a small image dataset. Read the code below and try to understand it.\n",
    "    </p>"
   ]
  },
  {
   "cell_type": "code",
   "execution_count": 2,
   "metadata": {},
   "outputs": [
    {
     "data": {
      "image/png": "[encoded data removed]",
      "text/plain": [
       "<Figure size 720x144 with 20 Axes>"
      ]
     },
     "metadata": {
      "needs_background": "light"
     },
     "output_type": "display_data"
    }
   ],
   "source": [
    "data_dir = './mini-dataset'\n",
    "a_files = get_files(data_dir, 'a')\n",
    "b_files = get_files(data_dir, 'b')\n",
    "columns = 10\n",
    "rows = len(a_files+b_files)/columns\n",
    "fig = plt.figure(figsize=(columns, rows))\n",
    "k=1\n",
    "for filename in a_files+b_files:\n",
    "    img = get_image(filename)\n",
    "    fig.add_subplot(rows, columns, k)\n",
    "    plt.imshow(img) \n",
    "    plt.tick_params(axis='both', labelsize=0, length = 0)\n",
    "    plt.grid(b=False)\n",
    "    k=k+1"
   ]
  },
  {
   "cell_type": "markdown",
   "metadata": {},
   "source": [
    "<div style=\"background:#00FF00\">\n",
    "Displays the images intwo rows using matplotlib, reading them from two files.\n",
    "<div>"
   ]
  },
  {
   "cell_type": "markdown",
   "metadata": {},
   "source": [
    "## Feature extraction\n",
    "Data often come already in a feature representation, but not always. As an exercise, we are going to guide you through a simple feature extraction process."
   ]
  },
  {
   "cell_type": "markdown",
   "metadata": {},
   "source": [
    "### Question 1: Load an image\n",
    "\n",
    "1. Create a variable called `apple_example` and assign it the name of the first file in the list `a_files`. \n",
    "2. Create a variable `img` and assign it the corresponding image read from that file using the function `get_image`. \n",
    "\n",
    "`img` is a PIL image. PIL is a nice library to manipulate images, but data scientists often prefer using Numpy arrays. Fortunately it is easy to convert one to the other. \n",
    "\n",
    "3. Create a variable called `M` and assign it a <a href=\"https://docs.scipy.org/doc/numpy/reference/generated/numpy.array.html\">numpy array</a> containing `img` (this is called \"casting\"). Assign to three variables `imw`, `imh`, `nchannels` the dimensions (<a href=\"https://docs.scipy.org/doc/numpy/reference/generated/numpy.ndarray.shape.html\">shape</a>) of `M`. \n",
    "4. Then print `imw`, `imh`, and `nchannels`. \n",
    "\n",
    "You will notice that there are 4 channels, what are those channels? Try to remember or check your class notes.\n",
    "\n",
    "Tip: To answer this kind of question, you need to read the documentation of numpy arrays."
   ]
  },
  {
   "cell_type": "code",
   "execution_count": 3,
   "metadata": {},
   "outputs": [
    {
     "name": "stdout",
     "output_type": "stream",
     "text": [
      "4\n",
      "32 32 4\n"
     ]
    },
    {
     "data": {
      "text/html": [
       "<div style=\"background:#00FF00\">CORRECT<br>:-)</div>"
      ],
      "text/plain": [
       "<IPython.core.display.HTML object>"
      ]
     },
     "metadata": {},
     "output_type": "display_data"
    },
    {
     "data": {
      "image/png": "[encoded data removed]",
      "text/plain": [
       "<Figure size 432x288 with 1 Axes>"
      ]
     },
     "metadata": {
      "needs_background": "light"
     },
     "output_type": "display_data"
    }
   ],
   "source": [
    "### Answer question 1\n",
    "question = 1\n",
    "import numpy as np         # This is needed to import Numpy\n",
    "apple_example = a_files[0]\n",
    "img = get_image(apple_example)\n",
    "M = np.zeros([20,20,4])\n",
    "\n",
    "M = np.array(img.getdata()).reshape(img.size[0], img.size[1], 4) #https://stackoverflow.com/questions/384759/how-to-convert-a-pil-image-into-a-numpy-array\n",
    "\n",
    "print(M.shape[2])\n",
    "imw, imh, nchannels = M.shape[0], M.shape[1], 4\n",
    "\n",
    "print(imw, imh, nchannels)\n",
    "plt.imshow(M) # This shows the image as a numpy array\n",
    "\n",
    "# This is the checker code, keep it\n",
    "answer = int.from_bytes(apple_example.encode('utf-8'), \"little\")+imw * imh + nchannels  \n",
    "score = 0\n",
    "score += check(answer, question)"
   ]
  },
  {
   "cell_type": "markdown",
   "metadata": {},
   "source": [
    "### Foreground and background colors\n",
    "The variable `white` has the color of pure white and a variable `red`the color of pure red (with transparency set to 255 in both cases).\n",
    "\n",
    "We can examine the colors of the foreground and the background as the channel values of `M[15, 15]`and `M[0, 0]` respectively. Do the color of the foreground and the background match your expectations?"
   ]
  },
  {
   "cell_type": "code",
   "execution_count": 4,
   "metadata": {},
   "outputs": [
    {
     "name": "stdout",
     "output_type": "stream",
     "text": [
      "White = [255, 255, 255, 255]\n",
      "red = [255, 0, 0, 255]\n",
      "Foreground = [251   2   7 255]\n",
      "Background = [255 255 255   0]\n"
     ]
    }
   ],
   "source": [
    "white = [255, 255, 255, 255]\n",
    "red = [255, 0, 0, 255]\n",
    "print(\"White = {}\".format(white))\n",
    "print(\"red = {}\".format(red))\n",
    "print(\"Foreground = {}\".format(M[15, 15]))\n",
    "print(\"Background = {}\".format(M[0, 0]))"
   ]
  },
  {
   "cell_type": "markdown",
   "metadata": {},
   "source": [
    "### Question 2: Separate color channels\n",
    "\n",
    "1. Define three arrays of type `float` named `R`, `G`, and `B`, containing the red, green and blue channels respectively (for all pixels)\n",
    "2. Then define an array `D` (color difference) containing `R-(G+B)/2` \n",
    "3. and an array `V` (value of intensity) containing `(R+G+B)/3`.\n",
    "\n",
    "Important: R, G, and B should be transformed to float to get correct results."
   ]
  },
  {
   "cell_type": "code",
   "execution_count": 5,
   "metadata": {},
   "outputs": [
    {
     "name": "stdout",
     "output_type": "stream",
     "text": [
      "[[0. 0. 0. ... 0. 0. 0.]\n",
      " [0. 0. 0. ... 0. 0. 0.]\n",
      " [0. 0. 0. ... 0. 0. 0.]\n",
      " ...\n",
      " [0. 0. 0. ... 0. 0. 0.]\n",
      " [0. 0. 0. ... 0. 0. 0.]\n",
      " [0. 0. 0. ... 0. 0. 0.]]\n"
     ]
    },
    {
     "data": {
      "text/html": [
       "<div style=\"background:#00FF00\">CORRECT<br>:-)</div>"
      ],
      "text/plain": [
       "<IPython.core.display.HTML object>"
      ]
     },
     "metadata": {},
     "output_type": "display_data"
    }
   ],
   "source": [
    "### Answer to question 2\n",
    "question = 2\n",
    "R = M[:,:,0]\n",
    "G = M[:,:,1]\n",
    "B = M[:,:,2]\n",
    "\n",
    "D = R-(G+B)/2\n",
    "V = (R+G+B)/3\n",
    "print(D)\n",
    "# This is the checker code, keep it\n",
    "answer = np.sum(np.diag(D+V))\n",
    "score += check(answer, question)\n"
   ]
  },
  {
   "cell_type": "markdown",
   "metadata": {},
   "source": [
    "### Question 3: Extraction of the `redness` feature\n",
    "\n",
    "1. Create a variable `redness` containing the average (mean) of `D` for the foreground pixels.\n",
    "\n",
    "Hint: The can be done by selecting the foreground pixels, i.e. those that are not `255` (white). You can do that with just one <a href=\"https://www.pythonlikeyoumeanit.com/Module3_IntroducingNumpy/BasicIndexing.html\"> advanced indexing</a> command.\n",
    "\n",
    "2. Check that your definition of redness matches `fg_r - (fg_g + fg_b)/2`. \n",
    "3. As a side question: try to define `whiteness = bg_r - (bg_g + bg_b)/2`. \n",
    "    1. Why do you get an error? \n",
    "    2. Why did you get no error for `fg_r - (fg_g + fg_b)/2`? \n",
    "    3. How can you do this \"right\"? Hint: rgb channels are defined as `integers`."
   ]
  },
  {
   "cell_type": "code",
   "execution_count": 6,
   "metadata": {},
   "outputs": [
    {
     "name": "stdout",
     "output_type": "stream",
     "text": [
      "246.5\n"
     ]
    },
    {
     "data": {
      "text/html": [
       "<div style=\"background:#00FF00\">CORRECT<br>:-)</div>"
      ],
      "text/plain": [
       "<IPython.core.display.HTML object>"
      ]
     },
     "metadata": {},
     "output_type": "display_data"
    }
   ],
   "source": [
    "### Answer to question 3\n",
    "question = 3\n",
    "redness = np.mean(D[M[:,:,3] == 255])\n",
    "\n",
    "print(redness)\n",
    "# This checks the correctness of your answer\n",
    "fg_r, fg_g, fg_b, fg_a = M[15, 15]\n",
    "assert(redness == fg_r - (fg_g + fg_b)/2)\n",
    "bg_r, bg_g, bg_b, bg_a = M[0, 0]\n",
    "# Uncomment this to see that you get an error\n",
    "#whiteness = bg_r - (bg_g + bg_b)/2\n",
    "\n",
    "# This is the checker code, keep it\n",
    "answer = redness\n",
    "score += check(answer, question)"
   ]
  },
  {
   "cell_type": "markdown",
   "metadata": {},
   "source": [
    "### Question 4: Extraction of the `elongation` feature\n",
    "\n",
    "1. Create two mean vectors `V0` and `V1` by averaging (taking the mean) of `V` along axis 0 and axis 1 respectively. \n",
    "2. Then use this line of code `V0_idx = [i for i in range(imw) if V0[i]!=255]` to get the indices of the values that are not white along axis 0 (horizontal). \n",
    "3. Similarly write code to extract `V1_idx` (pixels not white along axis 2, vertical).\n",
    "4. Extract from those information on the witdth `w` and the height `h` of the apple. \n",
    "5. Visually check that the width and height are correct. Finally compute the `elongation` variable (aspect ratio) as `w/h`."
   ]
  },
  {
   "cell_type": "code",
   "execution_count": 7,
   "metadata": {},
   "outputs": [
    {
     "name": "stdout",
     "output_type": "stream",
     "text": [
      "[7, 8, 9, 10, 11, 12, 13, 14, 15, 16, 17, 18, 19, 20, 21, 22, 23, 24, 25, 26, 27]\n",
      "[5, 6, 7, 8, 9, 10, 11, 12, 13, 14, 15, 16, 17, 18, 19, 20, 21, 22, 23, 24, 25, 26, 27, 28]\n",
      "21 24 0.875\n",
      "44.125\n"
     ]
    },
    {
     "data": {
      "text/html": [
       "<div style=\"background:#00FF00\">CORRECT<br>:-)</div>"
      ],
      "text/plain": [
       "<IPython.core.display.HTML object>"
      ]
     },
     "metadata": {},
     "output_type": "display_data"
    },
    {
     "data": {
      "image/png": "[encoded data removed]",
      "text/plain": [
       "<Figure size 432x288 with 1 Axes>"
      ]
     },
     "metadata": {
      "needs_background": "light"
     },
     "output_type": "display_data"
    }
   ],
   "source": [
    "### Answer to question 4\n",
    "question = 4\n",
    "V0 = [np.mean(i) for i in V.transpose()]\n",
    "V1 = [np.mean(i) for i in V]\n",
    "\n",
    "\n",
    "plt.imshow(M) # This shows the image as a numpy array\n",
    "\n",
    "V0_idx = [i for i in range(imw) if V0[i]!=255]\n",
    "\n",
    "V1_idx = [i for i in range(imh) if V1[i]!=255]\n",
    "print(V0_idx)\n",
    "print(V1_idx)\n",
    "w = len(V0_idx)\n",
    "h = len(V1_idx)\n",
    "elongation = w/h\n",
    "print(w, h, elongation)\n",
    "\n",
    "# This is the checker code, keep it\n",
    "\n",
    "answer = w+h-elongation\n",
    "print(answer)\n",
    "score += check(answer, question)"
   ]
  },
  {
   "cell_type": "markdown",
   "metadata": {},
   "source": [
    "### Question 5: Function `extract_features`\n",
    "\n",
    "1. Write a function with `M` as an input argument and that takes all the steps we walked you through, then returns `redness` and `elongation` as a list. You will use the following template:\n",
    "\n",
    "```python\n",
    "def extract_features(M, verbose = True):\n",
    "# Put your code here.\n",
    "# verbose is just a flag you can use to comment out print statements needed to debug your code\n",
    "return [redness, elongation]\n",
    "```"
   ]
  },
  {
   "cell_type": "code",
   "execution_count": 8,
   "metadata": {},
   "outputs": [],
   "source": [
    "### Answer to question 5\n",
    "question = 5\n",
    "\n",
    "def extract_features(M, verbose = False):\n",
    "    R = 1.*M[:,:,0]\n",
    "    G = 1.*M[:,:,1]\n",
    "    B = 1.*M[:,:,2]\n",
    "    \n",
    "    V = (R+G+B)/3.\n",
    "    D = R - (G+B)*0.5\n",
    "    if verbose : print(V)\n",
    "    redness = np.mean(D[V!=0])\n",
    "    \n",
    "    V0 = np.mean(V,axis = 0)\n",
    "    V1 = np.mean(V,axis = 1)\n",
    "    \n",
    "    \n",
    "    \n",
    "    V0_idx = [i for i in range(len(V0)) if V0[i]!=255]\n",
    "    V1_idx = [i for i in range(len(V1)) if V1[i]!=255]\n",
    "    w = V0_idx[-1] - V0_idx[0]#calcul différent de question 4, à cause du checker.\n",
    "    h = V1_idx[-1] - V1_idx[0]\n",
    "    \n",
    "    if (verbose):\n",
    "        print(w)\n",
    "        print(h)\n",
    "    elongation = w/h\n",
    "    return [redness, elongation]"
   ]
  },
  {
   "cell_type": "markdown",
   "metadata": {},
   "source": [
    "## Preprocess and visualize all the data\n",
    "To go a little bit faster, we give you the code to preprocess all the dataset in the next few cells. Check that you understand it."
   ]
  },
  {
   "cell_type": "code",
   "execution_count": 9,
   "metadata": {},
   "outputs": [
    {
     "data": {
      "text/html": [
       "<div style=\"background:#00FF00\">CORRECT<br>:-)</div>"
      ],
      "text/plain": [
       "<IPython.core.display.HTML object>"
      ]
     },
     "metadata": {},
     "output_type": "display_data"
    }
   ],
   "source": [
    "# Create a big data matrix with all a_files and b_files\n",
    "verbose = False\n",
    "n = len(a_files)\n",
    "_X = np.zeros([2*n, 2])\n",
    "Y = np.zeros([2*n, 1])\n",
    "\n",
    "# Read and convert a_files\n",
    "for i in range(n):\n",
    "    if verbose: print(a_files[i])\n",
    "    img = get_image(a_files[i])\n",
    "    M = np.array(img.getdata()).reshape(img.size[0], img.size[1], 4) #https://stackoverflow.com/questions/384759/how-to-convert-a-pil-image-into-a-numpy-array\n",
    "    _X[i, :] = extract_features(M, verbose)\n",
    "    Y[i] = 1 # Apples are labeled 1\n",
    "# Read and convert b_files\n",
    "for i in range(n):\n",
    "    if verbose: print(b_files[i])\n",
    "    img = get_image(b_files[i])\n",
    "    M = np.array(img.getdata()).reshape(img.size[0], img.size[1], 4) #https://stackoverflow.com/questions/384759/how-to-convert-a-pil-image-into-a-numpy-array\n",
    "    _X[n+i, :] = extract_features(M, verbose)\n",
    "    Y[n+i] = -1 # Bananas are labeled -1\n",
    "\n",
    "\n",
    "# This is the checker code for question 5, keep it\n",
    "answer = np.sum(_X[1,:])+ np.sum(_X[-1,:])\n",
    "\n",
    "score += check(answer, question)"
   ]
  },
  {
   "cell_type": "markdown",
   "metadata": {},
   "source": [
    "## Pandas data frames, heatmaps, and pairplot\n",
    "We already used Pandas dataframes in TP1. Data scientists like them too. Fortunately it is easy to move back and forth from Numpy arrays to Pandas dataframes. Pandas allows you to easily show arrays as heat maps.\n",
    "\n",
    "Sometimes datasets are large. You can create a heat map from the top row of your data frame with a command like `_XY.head().style.background_gradient(cmap='Blues')`. Try it!"
   ]
  },
  {
   "cell_type": "code",
   "execution_count": 10,
   "metadata": {},
   "outputs": [
    {
     "data": {
      "text/html": [
       "<style  type=\"text/css\" >\n",
       "    #T_bac23214_3ec6_11ea_bc58_28373725ebeerow0_col0 {\n",
       "            background-color:  #08306b;\n",
       "            color:  #f1f1f1;\n",
       "        }    #T_bac23214_3ec6_11ea_bc58_28373725ebeerow0_col1 {\n",
       "            background-color:  #f7fbff;\n",
       "            color:  #000000;\n",
       "        }    #T_bac23214_3ec6_11ea_bc58_28373725ebeerow0_col2 {\n",
       "            background-color:  #08306b;\n",
       "            color:  #f1f1f1;\n",
       "        }    #T_bac23214_3ec6_11ea_bc58_28373725ebeerow1_col0 {\n",
       "            background-color:  #549fcd;\n",
       "            color:  #000000;\n",
       "        }    #T_bac23214_3ec6_11ea_bc58_28373725ebeerow1_col1 {\n",
       "            background-color:  #e3eef9;\n",
       "            color:  #000000;\n",
       "        }    #T_bac23214_3ec6_11ea_bc58_28373725ebeerow1_col2 {\n",
       "            background-color:  #08306b;\n",
       "            color:  #f1f1f1;\n",
       "        }    #T_bac23214_3ec6_11ea_bc58_28373725ebeerow2_col0 {\n",
       "            background-color:  #8abfdd;\n",
       "            color:  #000000;\n",
       "        }    #T_bac23214_3ec6_11ea_bc58_28373725ebeerow2_col1 {\n",
       "            background-color:  #e3eef9;\n",
       "            color:  #000000;\n",
       "        }    #T_bac23214_3ec6_11ea_bc58_28373725ebeerow2_col2 {\n",
       "            background-color:  #08306b;\n",
       "            color:  #f1f1f1;\n",
       "        }    #T_bac23214_3ec6_11ea_bc58_28373725ebeerow3_col0 {\n",
       "            background-color:  #89bedc;\n",
       "            color:  #000000;\n",
       "        }    #T_bac23214_3ec6_11ea_bc58_28373725ebeerow3_col1 {\n",
       "            background-color:  #d8e7f5;\n",
       "            color:  #000000;\n",
       "        }    #T_bac23214_3ec6_11ea_bc58_28373725ebeerow3_col2 {\n",
       "            background-color:  #08306b;\n",
       "            color:  #f1f1f1;\n",
       "        }    #T_bac23214_3ec6_11ea_bc58_28373725ebeerow4_col0 {\n",
       "            background-color:  #a4cce3;\n",
       "            color:  #000000;\n",
       "        }    #T_bac23214_3ec6_11ea_bc58_28373725ebeerow4_col1 {\n",
       "            background-color:  #f5f9fe;\n",
       "            color:  #000000;\n",
       "        }    #T_bac23214_3ec6_11ea_bc58_28373725ebeerow4_col2 {\n",
       "            background-color:  #08306b;\n",
       "            color:  #f1f1f1;\n",
       "        }    #T_bac23214_3ec6_11ea_bc58_28373725ebeerow5_col0 {\n",
       "            background-color:  #74b3d8;\n",
       "            color:  #000000;\n",
       "        }    #T_bac23214_3ec6_11ea_bc58_28373725ebeerow5_col1 {\n",
       "            background-color:  #f4f9fe;\n",
       "            color:  #000000;\n",
       "        }    #T_bac23214_3ec6_11ea_bc58_28373725ebeerow5_col2 {\n",
       "            background-color:  #08306b;\n",
       "            color:  #f1f1f1;\n",
       "        }    #T_bac23214_3ec6_11ea_bc58_28373725ebeerow6_col0 {\n",
       "            background-color:  #cde0f1;\n",
       "            color:  #000000;\n",
       "        }    #T_bac23214_3ec6_11ea_bc58_28373725ebeerow6_col1 {\n",
       "            background-color:  #d9e7f5;\n",
       "            color:  #000000;\n",
       "        }    #T_bac23214_3ec6_11ea_bc58_28373725ebeerow6_col2 {\n",
       "            background-color:  #08306b;\n",
       "            color:  #f1f1f1;\n",
       "        }    #T_bac23214_3ec6_11ea_bc58_28373725ebeerow7_col0 {\n",
       "            background-color:  #95c5df;\n",
       "            color:  #000000;\n",
       "        }    #T_bac23214_3ec6_11ea_bc58_28373725ebeerow7_col1 {\n",
       "            background-color:  #d8e7f5;\n",
       "            color:  #000000;\n",
       "        }    #T_bac23214_3ec6_11ea_bc58_28373725ebeerow7_col2 {\n",
       "            background-color:  #08306b;\n",
       "            color:  #f1f1f1;\n",
       "        }    #T_bac23214_3ec6_11ea_bc58_28373725ebeerow8_col0 {\n",
       "            background-color:  #92c4de;\n",
       "            color:  #000000;\n",
       "        }    #T_bac23214_3ec6_11ea_bc58_28373725ebeerow8_col1 {\n",
       "            background-color:  #caddf0;\n",
       "            color:  #000000;\n",
       "        }    #T_bac23214_3ec6_11ea_bc58_28373725ebeerow8_col2 {\n",
       "            background-color:  #08306b;\n",
       "            color:  #f1f1f1;\n",
       "        }    #T_bac23214_3ec6_11ea_bc58_28373725ebeerow9_col0 {\n",
       "            background-color:  #5ca4d0;\n",
       "            color:  #000000;\n",
       "        }    #T_bac23214_3ec6_11ea_bc58_28373725ebeerow9_col1 {\n",
       "            background-color:  #d9e8f5;\n",
       "            color:  #000000;\n",
       "        }    #T_bac23214_3ec6_11ea_bc58_28373725ebeerow9_col2 {\n",
       "            background-color:  #08306b;\n",
       "            color:  #f1f1f1;\n",
       "        }    #T_bac23214_3ec6_11ea_bc58_28373725ebeerow10_col0 {\n",
       "            background-color:  #abd0e6;\n",
       "            color:  #000000;\n",
       "        }    #T_bac23214_3ec6_11ea_bc58_28373725ebeerow10_col1 {\n",
       "            background-color:  #08306b;\n",
       "            color:  #f1f1f1;\n",
       "        }    #T_bac23214_3ec6_11ea_bc58_28373725ebeerow10_col2 {\n",
       "            background-color:  #f7fbff;\n",
       "            color:  #000000;\n",
       "        }    #T_bac23214_3ec6_11ea_bc58_28373725ebeerow11_col0 {\n",
       "            background-color:  #c4daee;\n",
       "            color:  #000000;\n",
       "        }    #T_bac23214_3ec6_11ea_bc58_28373725ebeerow11_col1 {\n",
       "            background-color:  #f2f8fd;\n",
       "            color:  #000000;\n",
       "        }    #T_bac23214_3ec6_11ea_bc58_28373725ebeerow11_col2 {\n",
       "            background-color:  #f7fbff;\n",
       "            color:  #000000;\n",
       "        }    #T_bac23214_3ec6_11ea_bc58_28373725ebeerow12_col0 {\n",
       "            background-color:  #ddeaf7;\n",
       "            color:  #000000;\n",
       "        }    #T_bac23214_3ec6_11ea_bc58_28373725ebeerow12_col1 {\n",
       "            background-color:  #3686c0;\n",
       "            color:  #000000;\n",
       "        }    #T_bac23214_3ec6_11ea_bc58_28373725ebeerow12_col2 {\n",
       "            background-color:  #f7fbff;\n",
       "            color:  #000000;\n",
       "        }    #T_bac23214_3ec6_11ea_bc58_28373725ebeerow13_col0 {\n",
       "            background-color:  #a8cee4;\n",
       "            color:  #000000;\n",
       "        }    #T_bac23214_3ec6_11ea_bc58_28373725ebeerow13_col1 {\n",
       "            background-color:  #0a549e;\n",
       "            color:  #f1f1f1;\n",
       "        }    #T_bac23214_3ec6_11ea_bc58_28373725ebeerow13_col2 {\n",
       "            background-color:  #f7fbff;\n",
       "            color:  #000000;\n",
       "        }    #T_bac23214_3ec6_11ea_bc58_28373725ebeerow14_col0 {\n",
       "            background-color:  #f1f7fd;\n",
       "            color:  #000000;\n",
       "        }    #T_bac23214_3ec6_11ea_bc58_28373725ebeerow14_col1 {\n",
       "            background-color:  #3d8dc4;\n",
       "            color:  #000000;\n",
       "        }    #T_bac23214_3ec6_11ea_bc58_28373725ebeerow14_col2 {\n",
       "            background-color:  #f7fbff;\n",
       "            color:  #000000;\n",
       "        }    #T_bac23214_3ec6_11ea_bc58_28373725ebeerow15_col0 {\n",
       "            background-color:  #c9ddf0;\n",
       "            color:  #000000;\n",
       "        }    #T_bac23214_3ec6_11ea_bc58_28373725ebeerow15_col1 {\n",
       "            background-color:  #1c6ab0;\n",
       "            color:  #f1f1f1;\n",
       "        }    #T_bac23214_3ec6_11ea_bc58_28373725ebeerow15_col2 {\n",
       "            background-color:  #f7fbff;\n",
       "            color:  #000000;\n",
       "        }    #T_bac23214_3ec6_11ea_bc58_28373725ebeerow16_col0 {\n",
       "            background-color:  #b0d2e7;\n",
       "            color:  #000000;\n",
       "        }    #T_bac23214_3ec6_11ea_bc58_28373725ebeerow16_col1 {\n",
       "            background-color:  #2474b7;\n",
       "            color:  #f1f1f1;\n",
       "        }    #T_bac23214_3ec6_11ea_bc58_28373725ebeerow16_col2 {\n",
       "            background-color:  #f7fbff;\n",
       "            color:  #000000;\n",
       "        }    #T_bac23214_3ec6_11ea_bc58_28373725ebeerow17_col0 {\n",
       "            background-color:  #f7fbff;\n",
       "            color:  #000000;\n",
       "        }    #T_bac23214_3ec6_11ea_bc58_28373725ebeerow17_col1 {\n",
       "            background-color:  #9ac8e0;\n",
       "            color:  #000000;\n",
       "        }    #T_bac23214_3ec6_11ea_bc58_28373725ebeerow17_col2 {\n",
       "            background-color:  #f7fbff;\n",
       "            color:  #000000;\n",
       "        }    #T_bac23214_3ec6_11ea_bc58_28373725ebeerow18_col0 {\n",
       "            background-color:  #c1d9ed;\n",
       "            color:  #000000;\n",
       "        }    #T_bac23214_3ec6_11ea_bc58_28373725ebeerow18_col1 {\n",
       "            background-color:  #3686c0;\n",
       "            color:  #000000;\n",
       "        }    #T_bac23214_3ec6_11ea_bc58_28373725ebeerow18_col2 {\n",
       "            background-color:  #f7fbff;\n",
       "            color:  #000000;\n",
       "        }    #T_bac23214_3ec6_11ea_bc58_28373725ebeerow19_col0 {\n",
       "            background-color:  #cde0f1;\n",
       "            color:  #000000;\n",
       "        }    #T_bac23214_3ec6_11ea_bc58_28373725ebeerow19_col1 {\n",
       "            background-color:  #b7d4ea;\n",
       "            color:  #000000;\n",
       "        }    #T_bac23214_3ec6_11ea_bc58_28373725ebeerow19_col2 {\n",
       "            background-color:  #f7fbff;\n",
       "            color:  #000000;\n",
       "        }</style><table id=\"T_bac23214_3ec6_11ea_bc58_28373725ebee\" ><thead>    <tr>        <th class=\"blank level0\" ></th>        <th class=\"col_heading level0 col0\" >redness</th>        <th class=\"col_heading level0 col1\" >elongation</th>        <th class=\"col_heading level0 col2\" >fruit</th>    </tr></thead><tbody>\n",
       "                <tr>\n",
       "                        <th id=\"T_bac23214_3ec6_11ea_bc58_28373725ebeelevel0_row0\" class=\"row_heading level0 row0\" >0</th>\n",
       "                        <td id=\"T_bac23214_3ec6_11ea_bc58_28373725ebeerow0_col0\" class=\"data row0 col0\" >84.0122</td>\n",
       "                        <td id=\"T_bac23214_3ec6_11ea_bc58_28373725ebeerow0_col1\" class=\"data row0 col1\" >0.869565</td>\n",
       "                        <td id=\"T_bac23214_3ec6_11ea_bc58_28373725ebeerow0_col2\" class=\"data row0 col2\" >1</td>\n",
       "            </tr>\n",
       "            <tr>\n",
       "                        <th id=\"T_bac23214_3ec6_11ea_bc58_28373725ebeelevel0_row1\" class=\"row_heading level0 row1\" >1</th>\n",
       "                        <td id=\"T_bac23214_3ec6_11ea_bc58_28373725ebeerow1_col0\" class=\"data row1 col0\" >37.7764</td>\n",
       "                        <td id=\"T_bac23214_3ec6_11ea_bc58_28373725ebeerow1_col1\" class=\"data row1 col1\" >1</td>\n",
       "                        <td id=\"T_bac23214_3ec6_11ea_bc58_28373725ebeerow1_col2\" class=\"data row1 col2\" >1</td>\n",
       "            </tr>\n",
       "            <tr>\n",
       "                        <th id=\"T_bac23214_3ec6_11ea_bc58_28373725ebeelevel0_row2\" class=\"row_heading level0 row2\" >2</th>\n",
       "                        <td id=\"T_bac23214_3ec6_11ea_bc58_28373725ebeerow2_col0\" class=\"data row2 col0\" >21.8604</td>\n",
       "                        <td id=\"T_bac23214_3ec6_11ea_bc58_28373725ebeerow2_col1\" class=\"data row2 col1\" >1</td>\n",
       "                        <td id=\"T_bac23214_3ec6_11ea_bc58_28373725ebeerow2_col2\" class=\"data row2 col2\" >1</td>\n",
       "            </tr>\n",
       "            <tr>\n",
       "                        <th id=\"T_bac23214_3ec6_11ea_bc58_28373725ebeelevel0_row3\" class=\"row_heading level0 row3\" >3</th>\n",
       "                        <td id=\"T_bac23214_3ec6_11ea_bc58_28373725ebeerow3_col0\" class=\"data row3 col0\" >22.5586</td>\n",
       "                        <td id=\"T_bac23214_3ec6_11ea_bc58_28373725ebeerow3_col1\" class=\"data row3 col1\" >1.07692</td>\n",
       "                        <td id=\"T_bac23214_3ec6_11ea_bc58_28373725ebeerow3_col2\" class=\"data row3 col2\" >1</td>\n",
       "            </tr>\n",
       "            <tr>\n",
       "                        <th id=\"T_bac23214_3ec6_11ea_bc58_28373725ebeelevel0_row4\" class=\"row_heading level0 row4\" >4</th>\n",
       "                        <td id=\"T_bac23214_3ec6_11ea_bc58_28373725ebeerow4_col0\" class=\"data row4 col0\" >14.9414</td>\n",
       "                        <td id=\"T_bac23214_3ec6_11ea_bc58_28373725ebeerow4_col1\" class=\"data row4 col1\" >0.888889</td>\n",
       "                        <td id=\"T_bac23214_3ec6_11ea_bc58_28373725ebeerow4_col2\" class=\"data row4 col2\" >1</td>\n",
       "            </tr>\n",
       "            <tr>\n",
       "                        <th id=\"T_bac23214_3ec6_11ea_bc58_28373725ebeelevel0_row5\" class=\"row_heading level0 row5\" >5</th>\n",
       "                        <td id=\"T_bac23214_3ec6_11ea_bc58_28373725ebeerow5_col0\" class=\"data row5 col0\" >27.9932</td>\n",
       "                        <td id=\"T_bac23214_3ec6_11ea_bc58_28373725ebeerow5_col1\" class=\"data row5 col1\" >0.894737</td>\n",
       "                        <td id=\"T_bac23214_3ec6_11ea_bc58_28373725ebeerow5_col2\" class=\"data row5 col2\" >1</td>\n",
       "            </tr>\n",
       "            <tr>\n",
       "                        <th id=\"T_bac23214_3ec6_11ea_bc58_28373725ebeelevel0_row6\" class=\"row_heading level0 row6\" >6</th>\n",
       "                        <td id=\"T_bac23214_3ec6_11ea_bc58_28373725ebeerow6_col0\" class=\"data row6 col0\" >-0.563965</td>\n",
       "                        <td id=\"T_bac23214_3ec6_11ea_bc58_28373725ebeerow6_col1\" class=\"data row6 col1\" >1.07143</td>\n",
       "                        <td id=\"T_bac23214_3ec6_11ea_bc58_28373725ebeerow6_col2\" class=\"data row6 col2\" >1</td>\n",
       "            </tr>\n",
       "            <tr>\n",
       "                        <th id=\"T_bac23214_3ec6_11ea_bc58_28373725ebeelevel0_row7\" class=\"row_heading level0 row7\" >7</th>\n",
       "                        <td id=\"T_bac23214_3ec6_11ea_bc58_28373725ebeerow7_col0\" class=\"data row7 col0\" >18.9756</td>\n",
       "                        <td id=\"T_bac23214_3ec6_11ea_bc58_28373725ebeerow7_col1\" class=\"data row7 col1\" >1.07692</td>\n",
       "                        <td id=\"T_bac23214_3ec6_11ea_bc58_28373725ebeerow7_col2\" class=\"data row7 col2\" >1</td>\n",
       "            </tr>\n",
       "            <tr>\n",
       "                        <th id=\"T_bac23214_3ec6_11ea_bc58_28373725ebeelevel0_row8\" class=\"row_heading level0 row8\" >8</th>\n",
       "                        <td id=\"T_bac23214_3ec6_11ea_bc58_28373725ebeerow8_col0\" class=\"data row8 col0\" >20.0259</td>\n",
       "                        <td id=\"T_bac23214_3ec6_11ea_bc58_28373725ebeerow8_col1\" class=\"data row8 col1\" >1.17647</td>\n",
       "                        <td id=\"T_bac23214_3ec6_11ea_bc58_28373725ebeerow8_col2\" class=\"data row8 col2\" >1</td>\n",
       "            </tr>\n",
       "            <tr>\n",
       "                        <th id=\"T_bac23214_3ec6_11ea_bc58_28373725ebeelevel0_row9\" class=\"row_heading level0 row9\" >9</th>\n",
       "                        <td id=\"T_bac23214_3ec6_11ea_bc58_28373725ebeerow9_col0\" class=\"data row9 col0\" >35.0566</td>\n",
       "                        <td id=\"T_bac23214_3ec6_11ea_bc58_28373725ebeerow9_col1\" class=\"data row9 col1\" >1.06667</td>\n",
       "                        <td id=\"T_bac23214_3ec6_11ea_bc58_28373725ebeerow9_col2\" class=\"data row9 col2\" >1</td>\n",
       "            </tr>\n",
       "            <tr>\n",
       "                        <th id=\"T_bac23214_3ec6_11ea_bc58_28373725ebeelevel0_row10\" class=\"row_heading level0 row10\" >10</th>\n",
       "                        <td id=\"T_bac23214_3ec6_11ea_bc58_28373725ebeerow10_col0\" class=\"data row10 col0\" >12.3291</td>\n",
       "                        <td id=\"T_bac23214_3ec6_11ea_bc58_28373725ebeerow10_col1\" class=\"data row10 col1\" >2.18182</td>\n",
       "                        <td id=\"T_bac23214_3ec6_11ea_bc58_28373725ebeerow10_col2\" class=\"data row10 col2\" >-1</td>\n",
       "            </tr>\n",
       "            <tr>\n",
       "                        <th id=\"T_bac23214_3ec6_11ea_bc58_28373725ebeelevel0_row11\" class=\"row_heading level0 row11\" >11</th>\n",
       "                        <td id=\"T_bac23214_3ec6_11ea_bc58_28373725ebeerow11_col0\" class=\"data row11 col0\" >4.10889</td>\n",
       "                        <td id=\"T_bac23214_3ec6_11ea_bc58_28373725ebeerow11_col1\" class=\"data row11 col1\" >0.904762</td>\n",
       "                        <td id=\"T_bac23214_3ec6_11ea_bc58_28373725ebeerow11_col2\" class=\"data row11 col2\" >-1</td>\n",
       "            </tr>\n",
       "            <tr>\n",
       "                        <th id=\"T_bac23214_3ec6_11ea_bc58_28373725ebeelevel0_row12\" class=\"row_heading level0 row12\" >12</th>\n",
       "                        <td id=\"T_bac23214_3ec6_11ea_bc58_28373725ebeerow12_col0\" class=\"data row12 col0\" >-9.48779</td>\n",
       "                        <td id=\"T_bac23214_3ec6_11ea_bc58_28373725ebeerow12_col1\" class=\"data row12 col1\" >1.75</td>\n",
       "                        <td id=\"T_bac23214_3ec6_11ea_bc58_28373725ebeerow12_col2\" class=\"data row12 col2\" >-1</td>\n",
       "            </tr>\n",
       "            <tr>\n",
       "                        <th id=\"T_bac23214_3ec6_11ea_bc58_28373725ebeelevel0_row13\" class=\"row_heading level0 row13\" >13</th>\n",
       "                        <td id=\"T_bac23214_3ec6_11ea_bc58_28373725ebeerow13_col0\" class=\"data row13 col0\" >13.7573</td>\n",
       "                        <td id=\"T_bac23214_3ec6_11ea_bc58_28373725ebeerow13_col1\" class=\"data row13 col1\" >2</td>\n",
       "                        <td id=\"T_bac23214_3ec6_11ea_bc58_28373725ebeerow13_col2\" class=\"data row13 col2\" >-1</td>\n",
       "            </tr>\n",
       "            <tr>\n",
       "                        <th id=\"T_bac23214_3ec6_11ea_bc58_28373725ebeelevel0_row14\" class=\"row_heading level0 row14\" >14</th>\n",
       "                        <td id=\"T_bac23214_3ec6_11ea_bc58_28373725ebeerow14_col0\" class=\"data row14 col0\" >-20.1221</td>\n",
       "                        <td id=\"T_bac23214_3ec6_11ea_bc58_28373725ebeerow14_col1\" class=\"data row14 col1\" >1.71429</td>\n",
       "                        <td id=\"T_bac23214_3ec6_11ea_bc58_28373725ebeerow14_col2\" class=\"data row14 col2\" >-1</td>\n",
       "            </tr>\n",
       "            <tr>\n",
       "                        <th id=\"T_bac23214_3ec6_11ea_bc58_28373725ebeelevel0_row15\" class=\"row_heading level0 row15\" >15</th>\n",
       "                        <td id=\"T_bac23214_3ec6_11ea_bc58_28373725ebeerow15_col0\" class=\"data row15 col0\" >1.89258</td>\n",
       "                        <td id=\"T_bac23214_3ec6_11ea_bc58_28373725ebeerow15_col1\" class=\"data row15 col1\" >1.88889</td>\n",
       "                        <td id=\"T_bac23214_3ec6_11ea_bc58_28373725ebeerow15_col2\" class=\"data row15 col2\" >-1</td>\n",
       "            </tr>\n",
       "            <tr>\n",
       "                        <th id=\"T_bac23214_3ec6_11ea_bc58_28373725ebeelevel0_row16\" class=\"row_heading level0 row16\" >16</th>\n",
       "                        <td id=\"T_bac23214_3ec6_11ea_bc58_28373725ebeerow16_col0\" class=\"data row16 col0\" >10.7578</td>\n",
       "                        <td id=\"T_bac23214_3ec6_11ea_bc58_28373725ebeerow16_col1\" class=\"data row16 col1\" >1.83333</td>\n",
       "                        <td id=\"T_bac23214_3ec6_11ea_bc58_28373725ebeerow16_col2\" class=\"data row16 col2\" >-1</td>\n",
       "            </tr>\n",
       "            <tr>\n",
       "                        <th id=\"T_bac23214_3ec6_11ea_bc58_28373725ebeelevel0_row17\" class=\"row_heading level0 row17\" >17</th>\n",
       "                        <td id=\"T_bac23214_3ec6_11ea_bc58_28373725ebeerow17_col0\" class=\"data row17 col0\" >-23.5273</td>\n",
       "                        <td id=\"T_bac23214_3ec6_11ea_bc58_28373725ebeerow17_col1\" class=\"data row17 col1\" >1.375</td>\n",
       "                        <td id=\"T_bac23214_3ec6_11ea_bc58_28373725ebeerow17_col2\" class=\"data row17 col2\" >-1</td>\n",
       "            </tr>\n",
       "            <tr>\n",
       "                        <th id=\"T_bac23214_3ec6_11ea_bc58_28373725ebeelevel0_row18\" class=\"row_heading level0 row18\" >18</th>\n",
       "                        <td id=\"T_bac23214_3ec6_11ea_bc58_28373725ebeerow18_col0\" class=\"data row18 col0\" >5.44922</td>\n",
       "                        <td id=\"T_bac23214_3ec6_11ea_bc58_28373725ebeerow18_col1\" class=\"data row18 col1\" >1.75</td>\n",
       "                        <td id=\"T_bac23214_3ec6_11ea_bc58_28373725ebeerow18_col2\" class=\"data row18 col2\" >-1</td>\n",
       "            </tr>\n",
       "            <tr>\n",
       "                        <th id=\"T_bac23214_3ec6_11ea_bc58_28373725ebeelevel0_row19\" class=\"row_heading level0 row19\" >19</th>\n",
       "                        <td id=\"T_bac23214_3ec6_11ea_bc58_28373725ebeerow19_col0\" class=\"data row19 col0\" >-0.505859</td>\n",
       "                        <td id=\"T_bac23214_3ec6_11ea_bc58_28373725ebeerow19_col1\" class=\"data row19 col1\" >1.26316</td>\n",
       "                        <td id=\"T_bac23214_3ec6_11ea_bc58_28373725ebeerow19_col2\" class=\"data row19 col2\" >-1</td>\n",
       "            </tr>\n",
       "    </tbody></table>"
      ],
      "text/plain": [
       "<pandas.io.formats.style.Styler at 0x1a217d3f90>"
      ]
     },
     "execution_count": 10,
     "metadata": {},
     "output_type": "execute_result"
    }
   ],
   "source": [
    "import pandas as pd\n",
    "column_names = ['redness', 'elongation', 'fruit']\n",
    "_XY = pd.DataFrame(np.append(_X, Y, axis=1), columns=column_names)\n",
    "_XY.style.background_gradient(cmap='Blues')"
   ]
  },
  {
   "cell_type": "markdown",
   "metadata": {},
   "source": [
    "There is another way of making heatmaps that we showed you last time using Seaborn. Check the <a href=\"https://seaborn.pydata.org/generated/seaborn.heatmap.html\">searborn heatmap documentation</a> to figure out how to add annotations and change the color map.\n",
    "1. Try to make it look just like the one shown in class. \n",
    "2. Why are the colors in the second column so poorly contrated when you use seaborn heatmaps compared to the first method we showed to display Pandas dataframes as heatmaps?"
   ]
  },
  {
   "cell_type": "code",
   "execution_count": 11,
   "metadata": {},
   "outputs": [
    {
     "data": {
      "text/plain": [
       "<matplotlib.axes._subplots.AxesSubplot at 0x1a21982990>"
      ]
     },
     "execution_count": 11,
     "metadata": {},
     "output_type": "execute_result"
    },
    {
     "data": {
      "image/png": "[encoded data removed]",
      "text/plain": [
       "<Figure size 360x720 with 2 Axes>"
      ]
     },
     "metadata": {},
     "output_type": "display_data"
    }
   ],
   "source": [
    "import seaborn as sns; sns.set()\n",
    "from sklearn import preprocessing\n",
    "fig = plt.figure(figsize=(5,10))\n",
    "# Put your code here the create a seaborn heat map \n",
    "# looking like the one shown in class\n",
    "_XYcorrArray = _XY.values #returns a numpy array\n",
    "\n",
    "#https://stackoverflow.com/questions/26414913/normalize-columns-of-pandas-data-frame\n",
    "min_max_scaler = preprocessing.MinMaxScaler()\n",
    "_XYcorrArray = min_max_scaler.fit_transform(_XYcorrArray)\n",
    "_XYcorr = pd.DataFrame(_XYcorrArray)\n",
    "\n",
    "\n",
    "sns.heatmap(_XYcorr,annot = True)"
   ]
  },
  {
   "cell_type": "markdown",
   "metadata": {},
   "source": [
    "### Question 6: Feature standardization\n",
    "For better rendering and improved results, the features are often standardized. This means that for each column, we subtract the mean and divide by the standard deviation (except for the target).\n",
    "\n",
    "From the previous TP, do you remember some of the Pandas useful functions like `describe`? This allows you to quickly get statistics about your dataset. You can also use `mean` and `std`. Provide the mean and standard deviation of the features before and after standardization. Observe the effect of standardization on the heat map."
   ]
  },
  {
   "cell_type": "code",
   "execution_count": 12,
   "metadata": {
    "scrolled": true
   },
   "outputs": [
    {
     "name": "stdout",
     "output_type": "stream",
     "text": [
      "[[ 84.01220703   0.86956522]\n",
      " [ 37.77636719   1.        ]\n",
      " [ 21.86035156   1.        ]\n",
      " [ 22.55859375   1.07692308]\n",
      " [ 14.94140625   0.88888889]\n",
      " [ 27.99316406   0.89473684]\n",
      " [ -0.56396484   1.07142857]\n",
      " [ 18.97558594   1.07692308]\n",
      " [ 20.02587891   1.17647059]\n",
      " [ 35.05664062   1.06666667]\n",
      " [ 12.32910156   2.18181818]\n",
      " [  4.10888672   0.9047619 ]\n",
      " [ -9.48779297   1.75      ]\n",
      " [ 13.75732422   2.        ]\n",
      " [-20.12207031   1.71428571]\n",
      " [  1.89257812   1.88888889]\n",
      " [ 10.7578125    1.83333333]\n",
      " [-23.52734375   1.375     ]\n",
      " [  5.44921875   1.75      ]\n",
      " [ -0.50585938   1.26315789]]\n",
      "[[ 3.10916098 -1.11803728]\n",
      " [ 1.05984991 -0.80747931]\n",
      " [ 0.35440436 -0.80747931]\n",
      " [ 0.38535255 -0.62432974]\n",
      " [ 0.04773596 -1.07202869]\n",
      " [ 0.626229   -1.05810504]\n",
      " [-0.63950859 -0.63741185]\n",
      " [ 0.2265429  -0.62432974]\n",
      " [ 0.27309503 -0.38731264]\n",
      " [ 0.93930347 -0.64874968]\n",
      " [-0.06804922  2.00636411]\n",
      " [-0.4323938  -1.03423592]\n",
      " [-1.03503941  0.97822901]\n",
      " [-0.00474611  1.57346512]\n",
      " [-1.50638248  0.89319528]\n",
      " [-0.53062724  1.30891574]\n",
      " [-0.13769346  1.17664105]\n",
      " [-1.65731441  0.08537485]\n",
      " [-0.37298626  0.97822901]\n",
      " [-0.63693318 -0.18091499]]\n",
      "     redness  elongation  fruit\n",
      "0   3.109161   -1.118037    1.0\n",
      "1   1.059850   -0.807479    1.0\n",
      "2   0.354404   -0.807479    1.0\n",
      "3   0.385353   -0.624330    1.0\n",
      "4   0.047736   -1.072029    1.0\n",
      "5   0.626229   -1.058105    1.0\n",
      "6  -0.639509   -0.637412    1.0\n",
      "7   0.226543   -0.624330    1.0\n",
      "8   0.273095   -0.387313    1.0\n",
      "9   0.939303   -0.648750    1.0\n",
      "10 -0.068049    2.006364   -1.0\n",
      "11 -0.432394   -1.034236   -1.0\n",
      "12 -1.035039    0.978229   -1.0\n",
      "13 -0.004746    1.573465   -1.0\n",
      "14 -1.506382    0.893195   -1.0\n",
      "15 -0.530627    1.308916   -1.0\n",
      "16 -0.137693    1.176641   -1.0\n",
      "17 -1.657314    0.085375   -1.0\n",
      "18 -0.372986    0.978229   -1.0\n",
      "19 -0.636933   -0.180915   -1.0\n",
      "            redness    elongation      fruit\n",
      "count  2.000000e+01  2.000000e+01  20.000000\n",
      "mean   7.771561e-17  9.298118e-17   0.000000\n",
      "std    1.025978e+00  1.025978e+00   1.025978\n",
      "min   -1.657314e+00 -1.118037e+00  -1.000000\n",
      "25%   -5.572037e-01 -8.074793e-01  -1.000000\n",
      "50%   -3.639767e-02 -5.058212e-01   0.000000\n",
      "75%    3.621414e-01  9.782290e-01   1.000000\n",
      "max    3.109161e+00  2.006364e+00   1.000000\n",
      "** BEFORE **\n"
     ]
    },
    {
     "ename": "TypeError",
     "evalue": "unsupported format string passed to Series.__format__",
     "output_type": "error",
     "traceback": [
      "\u001b[0;31m-----------------------------------------------\u001b[0m",
      "\u001b[0;31mTypeError\u001b[0m     Traceback (most recent call last)",
      "\u001b[0;32m<ipython-input-12-e6a65ce3dc2f>\u001b[0m in \u001b[0;36m<module>\u001b[0;34m\u001b[0m\n\u001b[1;32m     21\u001b[0m \u001b[0;34m\u001b[0m\u001b[0m\n\u001b[1;32m     22\u001b[0m \u001b[0mprint\u001b[0m\u001b[0;34m(\u001b[0m\u001b[0;34m\"** BEFORE **\"\u001b[0m\u001b[0;34m)\u001b[0m\u001b[0;34m\u001b[0m\u001b[0;34m\u001b[0m\u001b[0m\n\u001b[0;32m---> 23\u001b[0;31m \u001b[0mprint\u001b[0m\u001b[0;34m(\u001b[0m\u001b[0;34m\"redness: mean={0:5.2f}, std={1:5.2f}\"\u001b[0m\u001b[0;34m.\u001b[0m\u001b[0mformat\u001b[0m\u001b[0;34m(\u001b[0m\u001b[0mredness_mean_before\u001b[0m\u001b[0;34m,\u001b[0m \u001b[0mredness_std_before\u001b[0m\u001b[0;34m)\u001b[0m\u001b[0;34m)\u001b[0m\u001b[0;34m\u001b[0m\u001b[0;34m\u001b[0m\u001b[0m\n\u001b[0m\u001b[1;32m     24\u001b[0m \u001b[0mprint\u001b[0m\u001b[0;34m(\u001b[0m\u001b[0;34m\"elongation: mean={0:5.2f}, std={1:5.2f}\"\u001b[0m\u001b[0;34m.\u001b[0m\u001b[0mformat\u001b[0m\u001b[0;34m(\u001b[0m\u001b[0melongation_mean_before\u001b[0m\u001b[0;34m,\u001b[0m \u001b[0melongation_std_before\u001b[0m\u001b[0;34m)\u001b[0m\u001b[0;34m)\u001b[0m\u001b[0;34m\u001b[0m\u001b[0;34m\u001b[0m\u001b[0m\n\u001b[1;32m     25\u001b[0m \u001b[0mprint\u001b[0m\u001b[0;34m(\u001b[0m\u001b[0;34m\"** AFTER **\"\u001b[0m\u001b[0;34m)\u001b[0m\u001b[0;34m\u001b[0m\u001b[0;34m\u001b[0m\u001b[0m\n",
      "\u001b[0;31mTypeError\u001b[0m: unsupported format string passed to Series.__format__"
     ]
    },
    {
     "data": {
      "image/png": "[encoded data removed]",
      "text/plain": [
       "<Figure size 360x720 with 2 Axes>"
      ]
     },
     "metadata": {},
     "output_type": "display_data"
    }
   ],
   "source": [
    "question = 6\n",
    "\n",
    "# The library scikit-learn (sklearn) provides you code to standardize\n",
    "from sklearn.preprocessing import StandardScaler\n",
    "scaler = StandardScaler() \n",
    "print(_X)\n",
    "X = scaler.fit_transform(_X)\n",
    "print(X)\n",
    "XY = pd.DataFrame(np.append(X, Y, axis=1), columns=['redness', 'elongation', 'fruit'])\n",
    "print(XY)\n",
    "# Change this code to make this heatmap look like the one in class\n",
    "fig = plt.figure(figsize=(5,10))\n",
    "sns.heatmap(XY)\n",
    "# Put your answers to question 6 here\n",
    "print(XY.describe())\n",
    "\n",
    "redness_mean_before, elongation_mean_before = XY.mean(), XY.std()\n",
    "redness_std_before, elongation_std_before = 10, 10\n",
    "redness_mean_after, elongation_mean_after = 10, 10\n",
    "redness_std_after, elongation_std_after = 10, 10\n",
    "\n",
    "print(\"** BEFORE **\")\n",
    "print(\"redness: mean={0:5.2f}, std={1:5.2f}\".format(redness_mean_before, redness_std_before))\n",
    "print(\"elongation: mean={0:5.2f}, std={1:5.2f}\".format(elongation_mean_before, elongation_std_before))\n",
    "print(\"** AFTER **\")\n",
    "print(\"redness: mean={0:5.2f}, std={1:5.2f}\".format(redness_mean_after, redness_std_after))\n",
    "print(\"elongation: mean={0:5.2f}, std={1:5.2f}\".format(elongation_mean_after, elongation_std_after))\n",
    "\n",
    "# This is the checker code for question 6, keep it\n",
    "answer = redness_mean_before+elongation_mean_before+redness_std_before+elongation_std_before\n",
    "answer = answer - (redness_mean_after+elongation_mean_after+redness_std_after+elongation_std_after)\n",
    "score += check(answer, question)"
   ]
  },
  {
   "cell_type": "markdown",
   "metadata": {},
   "source": [
    "### Pairplots\n",
    "Last time we also visualized data as pairplot, here is the pairplot of this dataset."
   ]
  },
  {
   "cell_type": "code",
   "execution_count": 13,
   "metadata": {},
   "outputs": [
    {
     "data": {
      "image/png": "[encoded data removed]",
      "text/plain": [
       "<Figure size 418.725x360 with 6 Axes>"
      ]
     },
     "metadata": {},
     "output_type": "display_data"
    }
   ],
   "source": [
    "sns.pairplot(XY, vars=['redness', 'elongation'], hue='fruit', markers=[\"s\", \"o\"])\n",
    "plt.show()"
   ]
  },
  {
   "cell_type": "markdown",
   "metadata": {},
   "source": [
    "### Correlation matrix"
   ]
  },
  {
   "cell_type": "code",
   "execution_count": 14,
   "metadata": {},
   "outputs": [
    {
     "data": {
      "image/png": "[encoded data removed]",
      "text/plain": [
       "<Figure size 432x288 with 2 Axes>"
      ]
     },
     "metadata": {},
     "output_type": "display_data"
    }
   ],
   "source": [
    "corr_mat = XY.corr(method='pearson')\n",
    "sns.heatmap(abs(corr_mat), annot=True, center=0)\n",
    "plt.show()"
   ]
  },
  {
   "cell_type": "markdown",
   "metadata": {},
   "source": [
    "### Question 7: Feature selection\n",
    "Based on the pair plots and the correlation matrix:\n",
    "    - Which feature separates best the two fruit categories? \n",
    "    - Are the two features correlated or anti-correlated?"
   ]
  },
  {
   "cell_type": "code",
   "execution_count": 15,
   "metadata": {},
   "outputs": [
    {
     "data": {
      "text/html": [
       "<div style=\"background:#00FF00\">CORRECT<br>:-)</div>"
      ],
      "text/plain": [
       "<IPython.core.display.HTML object>"
      ]
     },
     "metadata": {},
     "output_type": "display_data"
    }
   ],
   "source": [
    "question = 7\n",
    "\n",
    "number_of_best_feature = 1      # 0 for redness and 1 for elongation\n",
    "correlation_between_features = -1 # 1 for correlated and -1 for anti-correlated\n",
    "\n",
    "# This is the checker code for question 7, keep it\n",
    "answer = (1+ number_of_best_feature) * correlation_between_features\n",
    "score += check(answer, question)"
   ]
  },
  {
   "cell_type": "markdown",
   "metadata": {},
   "source": [
    "Note: For simplicity and because the dataset is tiny, we showed the feature standardization and feature selection steps on the whole dataset. However, those steps should normally be performed on training data first and then applied to test data."
   ]
  },
  {
   "cell_type": "markdown",
   "metadata": {},
   "source": [
    "<div style=\"background:#FFFFAA\"> <h1> Step 2: Metric definition </h1></div>"
   ]
  },
  {
   "cell_type": "markdown",
   "metadata": {},
   "source": [
    "### Question 8: Error rate and accuracy score\n",
    "\n",
    "1. Write a function that implements the error rate metric. Follow this template:\n",
    "\n",
    "```python\n",
    "def error_rate(solution, prediction):\n",
    "# Put your code here.\n",
    "return e\n",
    "```\n",
    "    \n",
    "2. Then write unit tests using the function `assert` that :\n",
    "    1. check that the error rate between `solution=Y` and `prediction=Y` is zero, \n",
    "    2. that between `solution=Y` and `prediction=np.zeros(Y.shape)` is one \n",
    "    3. and the between `solution=Y` and `prediction=np.ones(Y.shape)` is 0.5."
   ]
  },
  {
   "cell_type": "code",
   "execution_count": 16,
   "metadata": {},
   "outputs": [
    {
     "data": {
      "text/html": [
       "<div style=\"background:#00FF00\">CORRECT<br>:-)</div>"
      ],
      "text/plain": [
       "<IPython.core.display.HTML object>"
      ]
     },
     "metadata": {},
     "output_type": "display_data"
    }
   ],
   "source": [
    "### Answer to question 8\n",
    "question = 8\n",
    "\n",
    "def error_rate(solution, prediction):\n",
    "    solution = solution.ravel()\n",
    "    prediction = prediction.ravel()\n",
    "    '''Compute the error rate between two vectors.'''\n",
    "\n",
    "    object_idx = 0\n",
    "    erreurs = 0\n",
    "    for objectEval in solution:\n",
    "        sticker_idx = 0\n",
    "        if objectEval != prediction[object_idx]:\n",
    "            erreurs += 1\n",
    "        object_idx += 1\n",
    "    erreurs /= len(solution)\n",
    "\n",
    "    \n",
    "    return erreurs\n",
    "\n",
    "# This is the checker code for question 8, keep it\n",
    "answer = error_rate(Y, Y) + error_rate(Y, np.zeros(Y.shape)) + error_rate(Y, np.ones(Y.shape))\n",
    "score += check(answer, question)"
   ]
  },
  {
   "cell_type": "markdown",
   "metadata": {},
   "source": [
    "The library `scikit_learn` also called `sklearn` has a function `accuracy_score` = `1-error_rate`. You can verify below that we get the same results on the unit tests proposed above. There are many <a href=\"https://scikit-learn.org/stable/modules/model_evaluation.html\">sklearn metrics</a>, we invite you to check them out."
   ]
  },
  {
   "cell_type": "code",
   "execution_count": 17,
   "metadata": {},
   "outputs": [],
   "source": [
    "from sklearn.metrics import accuracy_score\n",
    "assert(error_rate(Y, Y) == 1-accuracy_score(Y, Y))\n",
    "assert(error_rate(Y, np.zeros(Y.shape)) == 1-accuracy_score(Y, np.zeros(Y.shape)))\n",
    "assert(error_rate(Y, np.ones(Y.shape)) == 1-accuracy_score(Y, np.ones(Y.shape)))"
   ]
  },
  {
   "cell_type": "markdown",
   "metadata": {},
   "source": [
    "### Question 9: The metric of your challenge\n",
    "The challenge you have chosen uses a particular metric. The metrics were chosen among: \"balanced_accuracy\", \"balanced_error_rate\", \"auc_metric\", \"f1_score\", \"mean_absolute_error\", and \"r2_metric\". Two important metrics to understand are the AUC (area under <a href=\"https://en.wikipedia.org/wiki/Receiver_operating_characteristic\">ROC curve</a> and the \"r2-metric\" or <a href=\"https://en.wikipedia.org/wiki/Coefficient_of_determination\">coefficient of determination</a>.\n",
    "\n",
    "Click on the <a href=\"http://saclay.chalearn.org/\">websites of this year challenges</a> and go to the \"Evaluation\" tab. Find what the metrics are. Learn about the metric of your own challenge."
   ]
  },
  {
   "cell_type": "code",
   "execution_count": 18,
   "metadata": {},
   "outputs": [
    {
     "data": {
      "text/html": [
       "<div style=\"background:#00FF00\">CORRECT<br>:-)</div>"
      ],
      "text/plain": [
       "<IPython.core.display.HTML object>"
      ]
     },
     "metadata": {},
     "output_type": "display_data"
    }
   ],
   "source": [
    "### Answer to question 9\n",
    "question = 9\n",
    "\n",
    "gaiasavers_metric = \"balanced_accuracy\"\n",
    "xporters_metric = \"r2_metric\"\n",
    "medichal_metric = \"auc_metric\"\n",
    "\n",
    "# This is the checker code for question 9, keep it\n",
    "my_string = gaiasavers_metric+xporters_metric+medichal_metric\n",
    "answer = int.from_bytes(my_string.encode('utf-8'), \"little\")  \n",
    "\n",
    "score += check(answer, question)"
   ]
  },
  {
   "cell_type": "markdown",
   "metadata": {},
   "source": [
    "<div style=\"background:#FFFFAA\"> <h1> Step 3: Baseline results </h1></div>\n",
    "<p>\n",
    "We are now equipped to try some basic machine learning method to predict what fruit is shown on an image, based on \"redness\" and \"elongation\". We will again use `scikit-learn`. We will split the data into a training set and a test set and see how well we do with the nearest neighbor method. </p>"
   ]
  },
  {
   "cell_type": "code",
   "execution_count": 19,
   "metadata": {},
   "outputs": [
    {
     "name": "stdout",
     "output_type": "stream",
     "text": [
      "TRAIN: [14 19  2 11  3 18 12  5  9  1] TEST: [ 0 17  4 13  6  8  7 16 10 15]\n",
      "[[-1.50638248  0.89319528]\n",
      " [-0.63693318 -0.18091499]\n",
      " [ 0.35440436 -0.80747931]\n",
      " [-0.4323938  -1.03423592]\n",
      " [ 0.38535255 -0.62432974]\n",
      " [-0.37298626  0.97822901]\n",
      " [-1.03503941  0.97822901]\n",
      " [ 0.626229   -1.05810504]\n",
      " [ 0.93930347 -0.64874968]\n",
      " [ 1.05984991 -0.80747931]]\n",
      "[[-1.]\n",
      " [-1.]\n",
      " [ 1.]\n",
      " [-1.]\n",
      " [ 1.]\n",
      " [-1.]\n",
      " [-1.]\n",
      " [ 1.]\n",
      " [ 1.]\n",
      " [ 1.]]\n"
     ]
    }
   ],
   "source": [
    "# Make one training-test split in a stratified manner. \n",
    "# \"Stratified\" means that we preserve the proportion of examples\n",
    "# of apples and bananas in the training and the test set.\n",
    "from sklearn.model_selection import StratifiedShuffleSplit\n",
    "\n",
    "SSS = StratifiedShuffleSplit(n_splits=1, test_size=0.5, random_state=0)\n",
    "for train_index, test_index in SSS.split(X, Y):\n",
    "    print(\"TRAIN:\", train_index, \"TEST:\", test_index)\n",
    "    Xtrain, Xtest = X[train_index], X[test_index]\n",
    "    Ytrain, Ytest = Y[train_index], Y[test_index]\n",
    "print(Xtrain)\n",
    "print(Ytrain)"
   ]
  },
  {
   "cell_type": "code",
   "execution_count": 20,
   "metadata": {},
   "outputs": [
    {
     "data": {
      "image/png": "[encoded data removed]",
      "text/plain": [
       "<Figure size 720x144 with 20 Axes>"
      ]
     },
     "metadata": {},
     "output_type": "display_data"
    }
   ],
   "source": [
    "# Show the training set (first line) and the test set (second line)\n",
    "columns = 10\n",
    "rows = len(a_files+b_files)/columns\n",
    "fig = plt.figure(figsize=(columns, rows))\n",
    "F = np.array(a_files + b_files)\n",
    "for k, filename in enumerate(np.concatenate((F[train_index],F[test_index])), start=1):\n",
    "    img = get_image(filename)\n",
    "    fig.add_subplot(rows, columns, k)\n",
    "    plt.imshow(img) \n",
    "    plt.tick_params(axis='both', labelsize=0, length = 0)\n",
    "    plt.grid(b=False)\n"
   ]
  },
  {
   "cell_type": "code",
   "execution_count": 21,
   "metadata": {},
   "outputs": [
    {
     "data": {
      "image/png": "[encoded data removed]",
      "text/plain": [
       "<Figure size 360x360 with 4 Axes>"
      ]
     },
     "metadata": {},
     "output_type": "display_data"
    }
   ],
   "source": [
    "# Plot training and test data as heat maps:\n",
    "# (We show the whole code for inspiration...)\n",
    "XY_train = pd.DataFrame(np.append(Xtrain, Ytrain, axis=1), columns=['redness', 'elongation', 'fruit'])\n",
    "XY_test = pd.DataFrame(np.append(Xtest, Ytest, axis=1), columns=['redness', 'elongation', 'fruit'])\n",
    "\n",
    "fig =  plt.figure(figsize=(5,5))\n",
    "fig.subplots_adjust(wspace=1)\n",
    "ax_train = fig.add_subplot(1, 2, 1)\n",
    "sns.heatmap(XY_train, annot=True, fmt='.1f', cmap='RdYlGn')\n",
    "ax_train.title.set_text('Training')\n",
    "\n",
    "ax_test = fig.add_subplot(1, 2, 2)\n",
    "sns.heatmap(XY_test, annot=True, fmt='.1f', cmap='RdYlGn')\n",
    "ax_test.title.set_text('Test')"
   ]
  },
  {
   "cell_type": "code",
   "execution_count": 22,
   "metadata": {},
   "outputs": [
    {
     "data": {
      "image/png": "[encoded data removed]",
      "text/plain": [
       "<Figure size 432x288 with 1 Axes>"
      ]
     },
     "metadata": {},
     "output_type": "display_data"
    }
   ],
   "source": [
    "# Our own kind of scatter plot...\n",
    "from utilities import make_scatter_plot\n",
    "\n",
    "# Check that this is the same as what we get with pair plots.\n",
    "make_scatter_plot(X, F, train_index, test_index)"
   ]
  },
  {
   "cell_type": "markdown",
   "metadata": {},
   "source": [
    "### Question 10: One nearest neighbor\n",
    "The 1-nearest neighbor classifier is a nice and simple method. Luckily it is implemented in `scikit-learn`. You may also want to implement it yourself as part of your project."
   ]
  },
  {
   "cell_type": "markdown",
   "metadata": {},
   "source": [
    "1. Import the `KNeighborsClassifier` classifier from `scikit-learn`. \n",
    "2. Instanciate a classifier of that class and set the number of neighbors to one. \n",
    "3. Train a model with `Xtrain` by calling the method `fit`. \n",
    "4.  Then use the trained model to create two vectors of prediction `Ytrain_predicted` and `Ytest_predicted` by calling the method `predict`. \n",
    "5. Compute `e_tr`, the training error rate, and `e_tr` the test error rate.\n",
    "\n",
    "**WARNING:** `scikit-learn` uses lists for prediction labels instead of column vectors. You will have to replace `Ytrain` by `Ytrain.ravel()` and `Ytest` by `Ytest.ravel()` to avoid an error message and wrong error rates."
   ]
  },
  {
   "cell_type": "code",
   "execution_count": 23,
   "metadata": {},
   "outputs": [
    {
     "name": "stdout",
     "output_type": "stream",
     "text": [
      "[ 1. -1. -1. -1. -1.  1.  1. -1. -1. -1.]\n",
      "[ 1. -1.  1. -1.  1.  1.  1. -1. -1. -1.]\n",
      "0.0 0.2\n"
     ]
    },
    {
     "name": "stderr",
     "output_type": "stream",
     "text": [
      "/usr/local/anaconda3/lib/python3.7/site-packages/ipykernel_launcher.py:6: DataConversionWarning: A column-vector y was passed when a 1d array was expected. Please change the shape of y to (n_samples, ), for example using ravel().\n",
      "  \n"
     ]
    },
    {
     "data": {
      "text/html": [
       "<div style=\"background:#FF0000\">BOOOOH<br>:-(</div>"
      ],
      "text/plain": [
       "<IPython.core.display.HTML object>"
      ]
     },
     "metadata": {},
     "output_type": "display_data"
    }
   ],
   "source": [
    "### Answer to question 10\n",
    "from sklearn.neighbors import KNeighborsClassifier\n",
    "question = 10\n",
    "\n",
    "banAppClassifier = KNeighborsClassifier(n_neighbors = 2)\n",
    "banAppClassifier.fit(Xtrain,Ytrain)\n",
    "### Put your code here\n",
    "Ytrain_predicted = banAppClassifier.predict(Xtrain)\n",
    "Ytest_predicted = banAppClassifier.predict(Xtest)\n",
    "\n",
    "print(np.array(Ytest_predicted).reshape(10))\n",
    "print(Ytest.reshape(-1))\n",
    "e_tr = error_rate(Ytrain_predicted,Ytrain[:])\n",
    "e_te = error_rate(Ytest_predicted,Ytest)\n",
    "\n",
    "\n",
    "# This is the checker code for question 10, keep it\n",
    "print(e_tr, e_te)\n",
    "\"\"\"\n",
    "################################################################################################################\n",
    "### les valeurs ne sont pas bonnes alors que le chargé de TD est d'accord avec moi que mon code est juste ######\n",
    "################################################################################################################\n",
    "\"\"\"\n",
    "answer = e_tr + e_te\n",
    "score += check(answer, question)"
   ]
  },
  {
   "cell_type": "markdown",
   "metadata": {},
   "source": [
    "### Confusion matrix\n",
    "We can also extract the variables `tn`, `fp`, `fn`, `tp` (true negative, false positive, false negative, and true positive) using the `confusion_matrix` function of `scikit_learn`, for test data predictions. With these values, you can calculate the balanced error rate (`BER`) using the formula seen in class and verify that it gives the same result as `1-balanced_accuracy`.\n",
    "\n",
    "We also provide in `utilities.py` the function `plot_confusion_matrix`, which is in the latest version of scikit-learn (not necessarily in the one you have)."
   ]
  },
  {
   "cell_type": "code",
   "execution_count": 24,
   "metadata": {},
   "outputs": [
    {
     "name": "stdout",
     "output_type": "stream",
     "text": [
      "TP=5, FP=0, FN=2, TP=3\n",
      "Balanced error rate as 0.5*(fp/(tn+fp)+fn/(tp+fn))= 0.2\n",
      "Balanced error rate as 1-balanced_accuracy = 0.19999999999999996\n",
      "Confusion matrix, without normalization\n",
      "[[5 0]\n",
      " [2 3]]\n"
     ]
    },
    {
     "data": {
      "image/png": "[encoded data removed]",
      "text/plain": [
       "<Figure size 432x288 with 2 Axes>"
      ]
     },
     "metadata": {},
     "output_type": "display_data"
    },
    {
     "name": "stdout",
     "output_type": "stream",
     "text": [
      "Normalized confusion matrix\n",
      "[[1.  0. ]\n",
      " [0.4 0.6]]\n"
     ]
    },
    {
     "data": {
      "image/png": "[encoded data removed]",
      "text/plain": [
       "<Figure size 432x288 with 2 Axes>"
      ]
     },
     "metadata": {},
     "output_type": "display_data"
    }
   ],
   "source": [
    "from sklearn.metrics import confusion_matrix\n",
    "from utilities import plot_confusion_matrix\n",
    "\n",
    "tn, fp, fn, tp = confusion_matrix(Ytest.ravel(), Ytest_predicted).ravel()\n",
    "print(\"TP={}, FP={}, FN={}, TP={}\".format(tn, fp, fn, tp))\n",
    "print(\"Balanced error rate as 0.5*(fp/(tn+fp)+fn/(tp+fn))= {}\".format(0.5*(fp/(tn+fp)+fn/(tp+fn))))\n",
    "print(\"Balanced error rate as 1-balanced_accuracy = {}\".format(1-accuracy_score(Ytest.ravel(), Ytest_predicted)))\n",
    "\n",
    "class_names = np.array([\"apple\", \"banana\"])\n",
    "# Plot non-normalized confusion matrix\n",
    "plot_confusion_matrix(Ytest.ravel(), Ytest_predicted, classes=class_names,\n",
    "                      title='Confusion matrix, without normalization')\n",
    "plt.show()\n",
    "\n",
    "# Plot normalized confusion matrix\n",
    "plot_confusion_matrix(Ytest.ravel(), Ytest_predicted, classes=class_names, normalize=True,\n",
    "                      title='Normalized confusion matrix')\n",
    "plt.show()\n"
   ]
  },
  {
   "cell_type": "markdown",
   "metadata": {},
   "source": [
    "### Let's overlay the predictions on the scatter plot ..."
   ]
  },
  {
   "cell_type": "code",
   "execution_count": 25,
   "metadata": {},
   "outputs": [
    {
     "data": {
      "image/png": "[encoded data removed]",
      "text/plain": [
       "<Figure size 432x288 with 1 Axes>"
      ]
     },
     "metadata": {},
     "output_type": "display_data"
    }
   ],
   "source": [
    "make_scatter_plot(X, F, train_index, test_index, predicted_labels=Ytest_predicted)"
   ]
  },
  {
   "cell_type": "markdown",
   "metadata": {},
   "source": [
    "### ... then show the \"ground truth\"\n",
    "We see that there is one apple that was classified as a banana (i.e. one \"false negative\" since the banana class is the \"negative\" class."
   ]
  },
  {
   "cell_type": "code",
   "execution_count": 26,
   "metadata": {},
   "outputs": [
    {
     "data": {
      "image/png": "[encoded data removed]",
      "text/plain": [
       "<Figure size 432x288 with 1 Axes>"
      ]
     },
     "metadata": {},
     "output_type": "display_data"
    }
   ],
   "source": [
    "make_scatter_plot(X, F, train_index, test_index, predicted_labels='GroundTruth')"
   ]
  },
  {
   "cell_type": "markdown",
   "metadata": {},
   "source": [
    "<div style=\"background:#FFFFAA\"> <h1> Step 4: Error bar </h1></div>\n",
    "<p>\n",
    "    To compute the error bar we repeat multiple times the train/test split and compute the mean and standard deviation of the test error. This takes into account both the variability of the training set and that of the test set. But is is known to be a biased estimator of the error variability because there is a large overlap between the training sets and the test sets in each split. However, it is pretty much the best we can do to compute error bars.\n",
    "    </p>"
   ]
  },
  {
   "cell_type": "code",
   "execution_count": 27,
   "metadata": {},
   "outputs": [
    {
     "name": "stdout",
     "output_type": "stream",
     "text": [
      "TRAIN: [19 14  6  3  8 12  2  5 17 15] TEST: [ 9 13 16  4  7  1 11 18 10  0]\n",
      "TEST ERROR RATE: 0.1\n",
      "TRAIN: [10 16  2 11 15  3  1  6 17  0] TEST: [14 13  7 12 18  9  5  4  8 19]\n",
      "TEST ERROR RATE: 0.1\n",
      "TRAIN: [ 4 11  5 19 12 15  9 13  8  1] TEST: [ 3 17 14  2  7 18  6 16 10  0]\n",
      "TEST ERROR RATE: 0.1\n",
      "TRAIN: [10 13 15  6  5 17  0 16  9  7] TEST: [11  3  8 14 18 19  1 12  2  4]\n",
      "TEST ERROR RATE: 0.2\n",
      "TRAIN: [19  6  5 13 14  4  8 11  0 12] TEST: [ 7 17 15 10  3 18 16  2  1  9]\n",
      "TEST ERROR RATE: 0.0\n",
      "TRAIN: [ 4  6 12  8  0 10 18  7 13 19] TEST: [ 1 16  3  2 14 15  5 17 11  9]\n",
      "TEST ERROR RATE: 0.1\n",
      "TRAIN: [10 18 12  6  7 13  8  4 14  9] TEST: [17  0 11 19  5 15  1 16  3  2]\n",
      "TEST ERROR RATE: 0.2\n",
      "TRAIN: [ 3 10  7 15  2 16  8 18  6 13] TEST: [ 9  5 19 11 14 17 12  1  4  0]\n",
      "TEST ERROR RATE: 0.3\n",
      "TRAIN: [ 3  7  8 14  1 16 15 10 12  4] TEST: [ 9 11  2 17 13 19 18  5  6  0]\n",
      "TEST ERROR RATE: 0.2\n",
      "TRAIN: [18 10  4  8 17  7 12 13  2  9] TEST: [ 1  0 11 14 15  5 19  6 16  3]\n",
      "TEST ERROR RATE: 0.2\n",
      "\n",
      "\n",
      "MEAN ERROR RATE = 0.15\n",
      "STANDARD DEVIATION = 0.08\n"
     ]
    }
   ],
   "source": [
    "from sklearn.neighbors import KNeighborsClassifier\n",
    "\n",
    "neigh = KNeighborsClassifier(n_neighbors=1)\n",
    "n = 10\n",
    "SSS = StratifiedShuffleSplit(n_splits=n, test_size=0.5, random_state=5)\n",
    "E = np.zeros([n,1])\n",
    "k = 0\n",
    "for train_index, test_index in SSS.split(X, Y):\n",
    "    print(\"TRAIN:\", train_index, \"TEST:\", test_index)\n",
    "    Xtrain, Xtest = X[train_index], X[test_index]\n",
    "    Ytrain, Ytest = Y[train_index], Y[test_index]\n",
    "    neigh.fit(Xtrain, Ytrain.ravel()) \n",
    "    Ytrain_predicted = neigh.predict(Xtrain)\n",
    "    Ytest_predicted = neigh.predict(Xtest)\n",
    "    e_te = error_rate(Ytest.ravel(), Ytest_predicted)\n",
    "    print(\"TEST ERROR RATE:\", e_te)\n",
    "    E[k] = e_te\n",
    "    k = k+1\n",
    "    \n",
    "e_te_ave = np.mean(E)\n",
    "print(\"\\n\\nMEAN ERROR RATE ={0:5.2f}\".format(e_te_ave))\n",
    "print(\"STANDARD DEVIATION ={0:5.2f}\".format(np.std(E)))"
   ]
  },
  {
   "cell_type": "code",
   "execution_count": 28,
   "metadata": {},
   "outputs": [
    {
     "name": "stdout",
     "output_type": "stream",
     "text": [
      "Your final score is 8/ 10, congratulations!\n"
     ]
    }
   ],
   "source": [
    "print('Your final score is ' + str(score) +'/ 10, congratulations!')"
   ]
  },
  {
   "cell_type": "markdown",
   "metadata": {},
   "source": [
    "<div style=\"background:#FFFFAA\">\n",
    "<span style=\"color:red\">\n",
    "<br>\n",
    "    To finalize your homework:\n",
    "<b>\n",
    "<ul>\n",
    "    <li> Use  Kernel + Restart and Run all.</li>\n",
    "    <li> Save your notebook.</li>\n",
    "    <li> Push your changes to your GitHub repo with:</li>\n",
    "</ul>   \n",
    "</b>\n",
    "<pre>\n",
    "git add .\n",
    "git commit -m 'my homework is done'\n",
    "git push\n",
    "</pre>\n",
    "<br>\n",
    "</span>\n",
    "</div>"
   ]
  },
  {
   "cell_type": "code",
   "execution_count": null,
   "metadata": {},
   "outputs": [],
   "source": []
  }
 ],
 "metadata": {
  "kernelspec": {
   "display_name": "Python 3",
   "language": "python",
   "name": "python3"
  },
  "language_info": {
   "codemirror_mode": {
    "name": "ipython",
    "version": 3
   },
   "file_extension": ".py",
   "mimetype": "text/x-python",
   "name": "python",
   "nbconvert_exporter": "python",
   "pygments_lexer": "ipython3",
   "version": "3.7.4"
  },
  "toc": {
   "nav_menu": {},
   "number_sections": false,
   "sideBar": true,
   "skip_h1_title": false,
   "toc_cell": false,
   "toc_position": {},
   "toc_section_display": "block",
   "toc_window_display": true
  }
 },
 "nbformat": 4,
 "nbformat_minor": 2
}